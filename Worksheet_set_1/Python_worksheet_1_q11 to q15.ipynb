{
 "cells": [
  {
   "cell_type": "code",
   "execution_count": null,
   "id": "1a9ccae3",
   "metadata": {},
   "outputs": [],
   "source": [
    "########Ans 11#############\n",
    "def fact(n):\n",
    "    f=0\n",
    "    if n==1:\n",
    "        return 1\n",
    "    else:\n",
    "        f=n*fact(n-1)\n",
    "        \n",
    "    return f\n",
    "\n",
    "if __name__==\"__main__\":\n",
    "    f=int(input(\"Enter a number: \"))\n",
    "    print(\"Factorial: \"+str(fact(f)))"
   ]
  },
  {
   "cell_type": "code",
   "execution_count": null,
   "id": "c8e26347",
   "metadata": {},
   "outputs": [],
   "source": [
    "############Ans 12###########\n",
    "def primeOrNot(n):\n",
    "    r=n//2\n",
    "    f=1\n",
    "    for i in range(2,r):\n",
    "        if n%i==0:\n",
    "            f=0\n",
    "        else:\n",
    "            f=1\n",
    "    if f==1:\n",
    "        print(\"Number is prime\")\n",
    "    else:\n",
    "        print(\"Number is not prime\")\n",
    "if __name__==\"__main__\":\n",
    "    n=int(input(\"Enter a number: \"))\n",
    "    primeOrNot(n)"
   ]
  },
  {
   "cell_type": "code",
   "execution_count": null,
   "id": "41696f08",
   "metadata": {},
   "outputs": [],
   "source": [
    "############Ans 13###########\n",
    "def palindrome(s):\n",
    "    rev=s[::-1]\n",
    "    if s.lower()==rev.lower():\n",
    "        print(\"The string is Palindrome\")\n",
    "    else:\n",
    "        print(\"The string is not Palindrome\")\n",
    "if __name__==\"__main__\":\n",
    "    s=input(\"Enter a string: \")\n",
    "    palindrome(s)"
   ]
  },
  {
   "cell_type": "code",
   "execution_count": null,
   "id": "42d47390",
   "metadata": {},
   "outputs": [],
   "source": [
    "\n",
    "    "
   ]
  },
  {
   "cell_type": "code",
   "execution_count": null,
   "id": "6c54ec32",
   "metadata": {},
   "outputs": [],
   "source": [
    "############Ans 14###########\n",
    "from math import sqrt\n",
    "def thirdSide(a,b,s):\n",
    "    if s==\"yes\":\n",
    "        c=sqrt((a*a)+(b*b))\n",
    "        return c\n",
    "    else:\n",
    "        if a>b:\n",
    "            c=sqrt((a*a)-(b*b))\n",
    "        else:\n",
    "            c=sqrt((b*b)-(a*a))\n",
    "        return c\n",
    "if __name__==\"__main__\":\n",
    "    a=int(input(\"Enter first side: \"))\n",
    "    b=int(input(\"Enter second side: \"))\n",
    "    s=input(\"Is the third side hyptenuse or not: \")\n",
    "    c=thirdSide(a,b,s.lower())\n",
    "    print(\"Third Side is: \"+str(c))"
   ]
  },
  {
   "cell_type": "code",
   "execution_count": 6,
   "id": "401cbd64",
   "metadata": {},
   "outputs": [
    {
     "name": "stdout",
     "output_type": "stream",
     "text": [
      "Enter a string: Chetan\n",
      "The frequency of letters in a string: \n",
      "C = 1\n",
      "h = 1\n",
      "e = 1\n",
      "t = 1\n",
      "a = 1\n",
      "n = 1\n"
     ]
    }
   ],
   "source": [
    "############Ans 15###########\n",
    "from collections import Counter\n",
    "def freq(s):\n",
    "    c=Counter(s)\n",
    "    print(\"The frequency of letters in a string: \")\n",
    "    for i in (c.keys()):\n",
    "        print(i+\" = \"+str(c[i]))\n",
    "if __name__==\"__main__\":\n",
    "    s=input(\"Enter a string: \")\n",
    "    freq(s)\n",
    "    "
   ]
  },
  {
   "cell_type": "code",
   "execution_count": null,
   "id": "8cb78dc1",
   "metadata": {},
   "outputs": [],
   "source": []
  },
  {
   "cell_type": "code",
   "execution_count": null,
   "id": "928c6797",
   "metadata": {},
   "outputs": [],
   "source": []
  }
 ],
 "metadata": {
  "kernelspec": {
   "display_name": "Python 3 (ipykernel)",
   "language": "python",
   "name": "python3"
  },
  "language_info": {
   "codemirror_mode": {
    "name": "ipython",
    "version": 3
   },
   "file_extension": ".py",
   "mimetype": "text/x-python",
   "name": "python",
   "nbconvert_exporter": "python",
   "pygments_lexer": "ipython3",
   "version": "3.9.7"
  }
 },
 "nbformat": 4,
 "nbformat_minor": 5
}
